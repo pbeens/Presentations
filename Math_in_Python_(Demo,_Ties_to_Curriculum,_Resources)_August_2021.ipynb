{
  "nbformat": 4,
  "nbformat_minor": 0,
  "metadata": {
    "colab": {
      "name": "Math in Python (Demo, Ties to Curriculum, Resources) August 2021.ipynb",
      "provenance": [],
      "collapsed_sections": [],
      "toc_visible": true,
      "authorship_tag": "ABX9TyNN6m5lqa449wC8CyBRws+T",
      "include_colab_link": true
    },
    "kernelspec": {
      "name": "python3",
      "display_name": "Python 3"
    },
    "language_info": {
      "name": "python"
    }
  },
  "cells": [
    {
      "cell_type": "markdown",
      "metadata": {
        "id": "view-in-github",
        "colab_type": "text"
      },
      "source": [
        "<a href=\"https://colab.research.google.com/github/pbeens/Presentations/blob/master/Math_in_Python_(Demo%2C_Ties_to_Curriculum%2C_Resources)_August_2021.ipynb\" target=\"_parent\"><img src=\"https://colab.research.google.com/assets/colab-badge.svg\" alt=\"Open In Colab\"/></a>"
      ]
    },
    {
      "cell_type": "markdown",
      "metadata": {
        "id": "OTH6Uqvyijrt"
      },
      "source": [
        "## Introduction"
      ]
    },
    {
      "cell_type": "markdown",
      "metadata": {
        "id": "bTYghaHeg7u_"
      },
      "source": [
        "This demo has been created for grade 8-9 Math teachers in Ontario looking to integrate coding into the classroom. \n",
        "\n",
        "Date: August 12, 2021<br>\n",
        "Presenter: Peter Beens<br>\n",
        "Email: pbeens at gmail dot com<br>\n",
        "Twitter: [@pbeens](https://twitter.com/pbeens)\n",
        "\n",
        "The purpose of the notebook is to \n",
        "\n",
        "1. Introduce Google Colab as a tool for Python programming\n",
        "2. Demo Python from the point of view of a math teacher (i.e., only Python basics and concepts related to math)\n",
        "3. Share resources that are worth further investigation\n",
        "\n",
        "The Concepts and Skills listed were brainstormed by the teachers from the respective curricula and shared via a Jamboard here: http://bit.ly/otf-math-coding-jamboard. \n",
        "\n",
        "The URL of this notebook in Peter's Presentations repository on GitHub is http://bit.ly/math-python-notebook-github.\n",
        "\n",
        "The URL of this notebook on Google Colab is http://bit.ly/math-python-notebook-colab.\n",
        "\n",
        "The URL for the Python resources in our Links document is https://bit.ly/2VHWjGk."
      ]
    },
    {
      "cell_type": "markdown",
      "metadata": {
        "id": "nma-B9alipbD"
      },
      "source": [
        "## Demo - Overview of Colab"
      ]
    },
    {
      "cell_type": "markdown",
      "metadata": {
        "id": "ZPO1W5qwisVk"
      },
      "source": [
        "* Table of Contents\n",
        "* Types of Cells\n",
        "* Use of Markdown in Text Cells\n",
        "* Executing Cells\n",
        "* Overview of Main Menu\n",
        "* Inserting Cells\n",
        "* Accessing Your Google Drive\n",
        "* Caution about Importing Files"
      ]
    },
    {
      "cell_type": "markdown",
      "metadata": {
        "id": "JTtw68NTEKlD"
      },
      "source": [
        "## Quick Overview of Coding Terminogy"
      ]
    },
    {
      "cell_type": "markdown",
      "metadata": {
        "id": "6Gf_IUf_EVfK"
      },
      "source": [
        "https://www.dcp.edu.gov.on.ca/en/curriculum/elementary-mathematics/glossary\n",
        "\n",
        "Show more > Expand all\n",
        "\n",
        "Search for “coding”\n"
      ]
    },
    {
      "cell_type": "markdown",
      "metadata": {
        "id": "Iv54b7gOt7VG"
      },
      "source": [
        "## Python Basics: Number Types"
      ]
    },
    {
      "cell_type": "markdown",
      "metadata": {
        "id": "3jHbOZ7-NhmL"
      },
      "source": [
        "**Concepts and Skills**\n",
        "* Grade 8 Concept: Integers\n",
        "* Grade 8 Skill: Using a Variable\n",
        "* Grade 9 Skill: Introducing Variables\n",
        "* Grade 9 Skill: Substituting Values for Variables\n",
        "\n"
      ]
    },
    {
      "cell_type": "markdown",
      "metadata": {
        "id": "ZI62rY19mYgM"
      },
      "source": [
        "**Prerequisite Knowledge**\n",
        "\n",
        "Variables are containers for storing data values. Variables can be numeric such as int or float, strings (characters), or more complex such as lists, tuples, and dictionaries. The more complex variables will not be covered here.\n",
        "\n",
        "The `type()` function tells us what type of variable a variable is. \n",
        "\n"
      ]
    },
    {
      "cell_type": "code",
      "metadata": {
        "colab": {
          "base_uri": "https://localhost:8080/"
        },
        "id": "8woCGDzr0zsv",
        "outputId": "9a5e1d46-99ed-449d-d8e1-d62f63324365"
      },
      "source": [
        "# integer\n",
        "a = 1\n",
        "print(a)\n",
        "print(type(a))"
      ],
      "execution_count": 1,
      "outputs": [
        {
          "output_type": "stream",
          "text": [
            "1\n",
            "<class 'int'>\n"
          ],
          "name": "stdout"
        }
      ]
    },
    {
      "cell_type": "code",
      "metadata": {
        "colab": {
          "base_uri": "https://localhost:8080/"
        },
        "id": "CGLcmqK_1TSz",
        "outputId": "c905ddec-2969-4a5a-bb41-77b233560259"
      },
      "source": [
        "# float\n",
        "b = 2.1\n",
        "print(b)\n",
        "print(type(b))"
      ],
      "execution_count": 2,
      "outputs": [
        {
          "output_type": "stream",
          "text": [
            "2.1\n",
            "<class 'float'>\n"
          ],
          "name": "stdout"
        }
      ]
    },
    {
      "cell_type": "code",
      "metadata": {
        "colab": {
          "base_uri": "https://localhost:8080/"
        },
        "id": "GstGx0bR1nXn",
        "outputId": "7b3c0380-db00-419c-9483-93a5d376ad8e"
      },
      "source": [
        "# complex (not for grades 8-9!)\n",
        "c = 2 + 6.j\n",
        "print(c)\n",
        "print(type(c))"
      ],
      "execution_count": 3,
      "outputs": [
        {
          "output_type": "stream",
          "text": [
            "(2+6j)\n",
            "<class 'complex'>\n"
          ],
          "name": "stdout"
        }
      ]
    },
    {
      "cell_type": "code",
      "metadata": {
        "colab": {
          "base_uri": "https://localhost:8080/"
        },
        "id": "w5aMfqNn2Vf6",
        "outputId": "eb9ed873-c522-47b6-ec1b-6a8efb3fb9d4"
      },
      "source": [
        "# complex (2nd method)\n",
        "c1 = complex(3,6)\n",
        "print(c1)"
      ],
      "execution_count": 4,
      "outputs": [
        {
          "output_type": "stream",
          "text": [
            "(3+6j)\n"
          ],
          "name": "stdout"
        }
      ]
    },
    {
      "cell_type": "markdown",
      "metadata": {
        "id": "r_ftnmx729G_"
      },
      "source": [
        "Further reading for complex types: https://www.tutorialspoint.com/complex-numbers-in-python"
      ]
    },
    {
      "cell_type": "markdown",
      "metadata": {
        "id": "uxTR4p7B2wsz"
      },
      "source": [
        "## Python Basics: Math Operators"
      ]
    },
    {
      "cell_type": "markdown",
      "metadata": {
        "id": "ZmhZG4t2N4Y3"
      },
      "source": [
        "**Concepts and Skills**\n",
        "* Grade 8 Skill: Multiplying Integers\n",
        "* Grade 9 Concept: Exponents"
      ]
    },
    {
      "cell_type": "code",
      "metadata": {
        "colab": {
          "base_uri": "https://localhost:8080/"
        },
        "id": "PCJd3NhV20gr",
        "outputId": "ac8298bf-155d-415a-8231-b28537660c9e"
      },
      "source": [
        "# addition\n",
        "print(7 + 3)"
      ],
      "execution_count": 5,
      "outputs": [
        {
          "output_type": "stream",
          "text": [
            "10\n"
          ],
          "name": "stdout"
        }
      ]
    },
    {
      "cell_type": "code",
      "metadata": {
        "colab": {
          "base_uri": "https://localhost:8080/"
        },
        "id": "jSy-3Jki3LR1",
        "outputId": "59d6add1-7533-4b67-c1f5-8f1d5bad5191"
      },
      "source": [
        "# subtraction\n",
        "print(7 - 3)"
      ],
      "execution_count": 6,
      "outputs": [
        {
          "output_type": "stream",
          "text": [
            "4\n"
          ],
          "name": "stdout"
        }
      ]
    },
    {
      "cell_type": "code",
      "metadata": {
        "colab": {
          "base_uri": "https://localhost:8080/"
        },
        "id": "QErkmxj93NaW",
        "outputId": "47362ec5-c713-4891-9776-4e98fa688fc1"
      },
      "source": [
        "# multiplication\n",
        "print(7 * 3)"
      ],
      "execution_count": 7,
      "outputs": [
        {
          "output_type": "stream",
          "text": [
            "21\n"
          ],
          "name": "stdout"
        }
      ]
    },
    {
      "cell_type": "code",
      "metadata": {
        "colab": {
          "base_uri": "https://localhost:8080/"
        },
        "id": "jjoMrpLo3QzN",
        "outputId": "1a3a0322-1c0d-4bd5-fb27-b5a0dc2d238c"
      },
      "source": [
        "# division\n",
        "print(7 / 3)"
      ],
      "execution_count": 8,
      "outputs": [
        {
          "output_type": "stream",
          "text": [
            "2.3333333333333335\n"
          ],
          "name": "stdout"
        }
      ]
    },
    {
      "cell_type": "code",
      "metadata": {
        "colab": {
          "base_uri": "https://localhost:8080/"
        },
        "id": "ytcyTUOz3SJ7",
        "outputId": "782a8d80-f102-4c72-e7bc-4c08a6cb51e9"
      },
      "source": [
        "# floor division\n",
        "print(7 // 3)\n",
        "print(-7 // 3) # be careful with negatives - rounds away from zero"
      ],
      "execution_count": 9,
      "outputs": [
        {
          "output_type": "stream",
          "text": [
            "2\n",
            "-3\n"
          ],
          "name": "stdout"
        }
      ]
    },
    {
      "cell_type": "code",
      "metadata": {
        "colab": {
          "base_uri": "https://localhost:8080/"
        },
        "id": "0OfIwZT13URB",
        "outputId": "710d12c9-131a-456f-fd8b-4b1855c7ab82"
      },
      "source": [
        "# modulus (remainder)\n",
        "print(7 % 3)"
      ],
      "execution_count": 10,
      "outputs": [
        {
          "output_type": "stream",
          "text": [
            "1\n"
          ],
          "name": "stdout"
        }
      ]
    },
    {
      "cell_type": "code",
      "metadata": {
        "colab": {
          "base_uri": "https://localhost:8080/"
        },
        "id": "uXaR-RwX38LP",
        "outputId": "43b2a6d5-4246-4761-8d95-dc5271c95559"
      },
      "source": [
        "# exponentiation\n",
        "print(2**3)\n",
        "print(9**.5) # sqrt\n",
        "print(27**(1/3)) # cube root - note order of operations"
      ],
      "execution_count": 11,
      "outputs": [
        {
          "output_type": "stream",
          "text": [
            "8\n",
            "3.0\n",
            "3.0\n"
          ],
          "name": "stdout"
        }
      ]
    },
    {
      "cell_type": "markdown",
      "metadata": {
        "id": "BOaNdkK57BvR"
      },
      "source": [
        "## Python Basics: Order of Operations (PEMBAS)"
      ]
    },
    {
      "cell_type": "markdown",
      "metadata": {
        "id": "VJjkfl47Okiw"
      },
      "source": [
        "**Concepts and Skills**\n",
        "* Grade 8-9 Skill: Follow Order of Operations"
      ]
    },
    {
      "cell_type": "code",
      "metadata": {
        "colab": {
          "base_uri": "https://localhost:8080/"
        },
        "id": "xzDanadd7GYL",
        "outputId": "7b01c9f4-db3b-4d40-8ead-63e1feb46ceb"
      },
      "source": [
        "print(1 + 4 * 3 / 2)"
      ],
      "execution_count": 12,
      "outputs": [
        {
          "output_type": "stream",
          "text": [
            "7.0\n"
          ],
          "name": "stdout"
        }
      ]
    },
    {
      "cell_type": "code",
      "metadata": {
        "colab": {
          "base_uri": "https://localhost:8080/"
        },
        "id": "_OQrX_r17jAE",
        "outputId": "a7ab33c1-5deb-430e-f684-1547ad23804a"
      },
      "source": [
        "print((1 + 4) * 3 / 2)"
      ],
      "execution_count": 13,
      "outputs": [
        {
          "output_type": "stream",
          "text": [
            "7.5\n"
          ],
          "name": "stdout"
        }
      ]
    },
    {
      "cell_type": "markdown",
      "metadata": {
        "id": "O8AROybBveWL"
      },
      "source": [
        "## Python Basics: Getting Input from the Keyboard"
      ]
    },
    {
      "cell_type": "markdown",
      "metadata": {
        "id": "BLNHhqT3PSyw"
      },
      "source": [
        "**Concepts and Skills**\n",
        "* Grade 8-9 Skill: Using a Variable\n",
        "* Grade 8-9 Skill: Problem Solving\n",
        "* Grade 9 Concept: Building Models"
      ]
    },
    {
      "cell_type": "code",
      "metadata": {
        "colab": {
          "base_uri": "https://localhost:8080/"
        },
        "id": "7JNg3JPUvh--",
        "outputId": "66dff853-11d1-4704-d1fd-57034bb0cef9"
      },
      "source": [
        "# values input'd are always strings (characters)\n",
        "n = input('Enter a number: ')\n",
        "print(type(n))"
      ],
      "execution_count": 14,
      "outputs": [
        {
          "output_type": "stream",
          "text": [
            "Enter a number: 2\n",
            "<class 'str'>\n"
          ],
          "name": "stdout"
        }
      ]
    },
    {
      "cell_type": "code",
      "metadata": {
        "colab": {
          "base_uri": "https://localhost:8080/"
        },
        "id": "boZZm64yvvwS",
        "outputId": "a957ab11-f9c3-46e3-90e1-8540e5c1bdc2"
      },
      "source": [
        "# let's convert to an integer\n",
        "n = input('Enter a number: ')\n",
        "n = int(n)\n",
        "print(type(n))"
      ],
      "execution_count": 15,
      "outputs": [
        {
          "output_type": "stream",
          "text": [
            "Enter a number: 2\n",
            "<class 'int'>\n"
          ],
          "name": "stdout"
        }
      ]
    },
    {
      "cell_type": "code",
      "metadata": {
        "colab": {
          "base_uri": "https://localhost:8080/"
        },
        "id": "Xzo7J5jvv-GR",
        "outputId": "10414290-0311-4808-a35e-fb63b9cd4953"
      },
      "source": [
        "# conventionally, we combine int() and input(), aka function composition\n",
        "n = int(input('Enter a number: '))\n",
        "print(type(n))"
      ],
      "execution_count": 16,
      "outputs": [
        {
          "output_type": "stream",
          "text": [
            "Enter a number: 2\n",
            "<class 'int'>\n"
          ],
          "name": "stdout"
        }
      ]
    },
    {
      "cell_type": "code",
      "metadata": {
        "colab": {
          "base_uri": "https://localhost:8080/"
        },
        "id": "TeAVpPjqwYyk",
        "outputId": "ea03945c-afbe-4d92-bf6b-363d91ae684a"
      },
      "source": [
        "# a float example\n",
        "f = float(input('Enter a floating point number: '))\n",
        "print(type(f))"
      ],
      "execution_count": 17,
      "outputs": [
        {
          "output_type": "stream",
          "text": [
            "Enter a floating point number: 2\n",
            "<class 'float'>\n"
          ],
          "name": "stdout"
        }
      ]
    },
    {
      "cell_type": "markdown",
      "metadata": {
        "id": "b1Oe5Nyt7_Wm"
      },
      "source": [
        "## Demo - Hypotenuse Finder"
      ]
    },
    {
      "cell_type": "markdown",
      "metadata": {
        "id": "Utw8CEDwQZFg"
      },
      "source": [
        "**Concepts and Skills**\n",
        "* Grade 8 Concept: Algebra\n",
        "* Grade 8 Skill: Solving Equations/Expressions with Substitution\n",
        "* Grade 8-9 Skill: Follow Order of Operations\n",
        "* Grade 8-9 Skill: Problem Solving\n",
        "* Grade 9 Concept: Algebraic Models\n",
        "* Grade 9 Concept: Building Models\n",
        "* Grade 9 Concept: Linear Relations/Algebra\n",
        "* Grade 9 Concept: Exponents\n",
        "* Grade 9 Concept: Geometry\n",
        "* Grade 9 Concept: Measurement (Perimeter, Area, Volume)\n",
        "* Grade 9 Skill: Make Connections to Real-life Applications\n",
        "\n",
        "**Coding Expectations**\n",
        "* Grade 8 C3.1 solve problems and create computational representations of mathematical situations by writing and executing code, including code that involves the analysis of data in order to inform and communicate decisions\n",
        "* Grade 9 C2.1 use coding to demonstrate an understanding of algebraic concepts including variables, parameters, equations, and inequalities\n",
        "* Grade 9 C2.2 create code by decomposing situations into computational steps in order to represent mathematical concepts and relationships, and to solve problems"
      ]
    },
    {
      "cell_type": "code",
      "metadata": {
        "colab": {
          "base_uri": "https://localhost:8080/"
        },
        "id": "_-k3K6wa8GeP",
        "outputId": "a66e6368-cbe4-4499-d012-e9dfaf3a7acb"
      },
      "source": [
        "side_a = int(input('Enter side A: '))\n",
        "side_b = int(input('Enter side B '))\n",
        "hypotenuse = (side_a**2 + side_b**2) ** 0.5\n",
        "print('The hypotenuse is', hypotenuse)"
      ],
      "execution_count": 18,
      "outputs": [
        {
          "output_type": "stream",
          "text": [
            "Enter side A: 3\n",
            "Enter side B 4\n",
            "The hypotenuse is 5.0\n"
          ],
          "name": "stdout"
        }
      ]
    },
    {
      "cell_type": "markdown",
      "metadata": {
        "id": "_Tl0PRK4uWz8"
      },
      "source": [
        "## Demo - BMI Calculator"
      ]
    },
    {
      "cell_type": "markdown",
      "metadata": {
        "id": "Qrgg3p2vaSoU"
      },
      "source": [
        "**Concepts and Skills**\n",
        "* Grade 8 Concept: Algebra\n",
        "* Grade 8 Skill: Solving Equations/Expressions with Substitution\n",
        "* Grade 8-9 Skill: Follow Order of Operations\n",
        "* Grade 8-9 Skill: Problem Solving\n",
        "* Grade 9 Concept: Algebraic Models\n",
        "* Grade 9 Concept: Building Models\n",
        "* Grade 9 Concept: Linear Relations/Algebra\n",
        "* Grade 9 Concept: Exponents\n",
        "* Grade 9 Skill: Make Connections to Real-life Applications\n",
        "\n",
        "**Coding Expectations**\n",
        "* Grade 8 C3.1 solve problems and create computational representations of mathematical situations by writing and executing code, including code that involves the analysis of data in order to inform and communicate decisions\n",
        "* Grade 9 C2.1 use coding to demonstrate an understanding of algebraic concepts including variables, parameters, equations, and inequalities\n",
        "* Grade 9 C2.2 create code by decomposing situations into computational steps in order to represent mathematical concepts and relationships, and to solve problems\n",
        "\n",
        "**Tip:** Have a look at this cheat sheet to learn how to use f-strings: https://myshell.co.uk/blog/2018/11/python-f-string-formatting-cheatsheet/"
      ]
    },
    {
      "cell_type": "code",
      "metadata": {
        "colab": {
          "base_uri": "https://localhost:8080/"
        },
        "id": "KzUXsvRHub5V",
        "outputId": "4a0339f3-3428-4a18-8599-7498deba3924"
      },
      "source": [
        "h = float(input('Enter height in metres: '))\n",
        "m = float(input('Enter mass in kg: '))\n",
        "bmi = m / h**2\n",
        "print('Your BMI is', bmi)\n",
        "\n",
        "# introducing f-strings\n",
        "print(f'Your BMI is {bmi:.2f}')"
      ],
      "execution_count": 19,
      "outputs": [
        {
          "output_type": "stream",
          "text": [
            "Enter height in metres: 1.7\n",
            "Enter mass in kg: 70\n",
            "Your BMI is 24.221453287197235\n",
            "Your BMI is 24.22\n"
          ],
          "name": "stdout"
        }
      ]
    },
    {
      "cell_type": "markdown",
      "metadata": {
        "id": "StPLSdE9eQTu"
      },
      "source": [
        "##Demo - Sum of Multiples of 3 or 5"
      ]
    },
    {
      "cell_type": "markdown",
      "metadata": {
        "id": "2BOvPH7jbJRg"
      },
      "source": [
        "Source: https://projecteuler.net/problem=1\n",
        "\n",
        "If we list all the natural numbers below 10 that are multiples of 3 or 5, we get 3, 5, 6 and 9. The sum of these multiples is 23.\n",
        "\n",
        "Find the sum of all the multiples of 3 or 5 below 1000.\n",
        "\n",
        "**Concepts and Skills**\n",
        "* Grade 8 Concept: Integers\n",
        "* Grade 8-9 Skill: Problem Solving\n",
        "* Grade 8-9 Skill: Using a Variable\n",
        "\n",
        "**Coding Expectations**\n",
        "* Grade 8 C3.1 solve problems and create computational representations of mathematical situations by writing and executing code, including code that involves the analysis of data in order to inform and communicate decisions\n",
        "* Grade 9 C2.1 use coding to demonstrate an understanding of algebraic concepts including variables, parameters, equations, and inequalities\n",
        "* Grade 9 C2.2 create code by decomposing situations into computational steps in order to represent mathematical concepts and relationships, and to solve problems"
      ]
    },
    {
      "cell_type": "code",
      "metadata": {
        "colab": {
          "base_uri": "https://localhost:8080/"
        },
        "id": "6tTOSpdobxhE",
        "outputId": "9964e2ea-88eb-48d8-cc51-1e8dae51d39e"
      },
      "source": [
        "sum = 0\n",
        "for i in range(1000):\n",
        "    if i % 3 == 0 or i % 5 == 0:\n",
        "        sum = sum + i # can also be sum += i\n",
        "print(sum)"
      ],
      "execution_count": 20,
      "outputs": [
        {
          "output_type": "stream",
          "text": [
            "233168\n"
          ],
          "name": "stdout"
        }
      ]
    },
    {
      "cell_type": "markdown",
      "metadata": {
        "id": "3Eb26H_xNXpY"
      },
      "source": [
        "## Demo - Plotting Data from Google Sheets"
      ]
    },
    {
      "cell_type": "markdown",
      "metadata": {
        "id": "HjINV4bqNepQ"
      },
      "source": [
        "**Concepts and Skills**\n",
        "* Grade 8 Concept: Integers\n",
        "* Grade 8 Skill: Represent/Compare\n",
        "* Grade 8 Skill: Solving Equations/Expressions with Substitution\n",
        "* Grade 8-9 Skill: Problem Solving\n",
        "* Grade 8-9 Skill: Using a Variable\n",
        "* Grade 9 Concept: Algebraic Models\n",
        "* Grade 9 Concept: Building Models\n",
        "* Grade 9 Concept: Exponents\n",
        "* Grade 9 Concept: Linear Relations/Algebra\n",
        "* Grade 9 Skill: Data Analysis\n",
        "* Grade 9 Skill: Graphing\n",
        "* Grade 9 Skill: Make Connections to Real-life Applications\n",
        "* Grade 9 Skill: Mathematical Communication\n",
        "\n",
        "**Coding Expectations**\n",
        "* Grade 8 C3.1 solve problems and create computational representations of mathematical situations by writing and executing code, including code that involves the analysis of data in order to inform and communicate decisions\n",
        "* Grade 8 C3.2 read and alter existing code involving the analysis of data in order to inform and communicate decisions, and describe how changes to the code affect the outcomes and the efficiency of the code *(with adaptation)*\n",
        "* Grade 9 C2.1 use coding to demonstrate an understanding of algebraic concepts including variables, parameters, equations, and inequalities\n",
        "* Grade 9 C2.2 create code by decomposing situations into computational steps in order to represent mathematical concepts and relationships, and to solve problems\n",
        "* Grade 9 C2.3 read code to predict its outcome, and alter code to adjust constraints, parameters, and outcomes to represent a similar or new mathematical situation *(with adaptation)* \n",
        "\n",
        "See [here](https://github.com/pbeens/OTF-Data-Analysis-2021-05) for the entire Data Analysis presentation from May, 2021.\n",
        "\n",
        "**Further Reading**\n",
        "\n",
        "* https://matplotlib.org/stable/tutorials/introductory/pyplot.html"
      ]
    },
    {
      "cell_type": "markdown",
      "metadata": {
        "id": "K_L2N63GpgTL"
      },
      "source": [
        "**< This demo can be found [here](https://github.com/pbeens/OTF-Data-Analysis-2021-05/blob/main/Demo_Input_Data_from_Google_Sheet.ipynb). >**"
      ]
    },
    {
      "cell_type": "markdown",
      "metadata": {
        "id": "SKcpkuu6oIoz"
      },
      "source": [
        "## Demo - ACSE Financial Literacy Unit"
      ]
    },
    {
      "cell_type": "markdown",
      "metadata": {
        "id": "v3HkrsKboOeG"
      },
      "source": [
        "Source: https://docs.google.com/document/d/1as95YMwmaxtGrK4Ncjdx2WCkz1jdpyKyjq_V4Igf2zM/edit?pli=1#heading=h.j41a35a0ppua\n",
        "\n",
        "A local Computer Store is offering a special purchase option on a tablet computer in 12 easy monthly payments of only \\$68.99 with no money down. The regular purchase price is $499 plus 13% HST. \n",
        "\n",
        "Create a table of values showing the total amount paid after each month.\n",
        "\n",
        "**Tip:** Have a look at this cheat sheet to learn how to use f-strings: https://myshell.co.uk/blog/2018/11/python-f-string-formatting-cheatsheet/\n",
        "\n",
        "**Concepts and Skills**\n",
        "* Grade 8 Concept: Algebra\n",
        "* Grade 8 Skill: Represent/Compare\n",
        "* Grade 8 Skill: Solving Equations/Expressions with Substitution\n",
        "* Grade 8-9 Skill: Problem Solving\n",
        "* Grade 8-9 Skill: Using a Variable\n",
        "* Grade 9 Concept: Algebraic Models\n",
        "* Grade 9 Concept: Building Models\n",
        "* Grade 9 Concept: Financial Math\n",
        "* Grade 9 Skill: Data Analysis\n",
        "* Grade 9 Skill: Make Connections to Real-life Applications\n",
        "\n",
        "**Coding Expectations**\n",
        "* Grade 8 C3.1 solve problems and create computational representations of mathematical situations by writing and executing code, including code that involves the analysis of data in order to inform and communicate decisions\n",
        "* Grade 9 C2.1 use coding to demonstrate an understanding of algebraic concepts including variables, parameters, equations, and inequalities\n",
        "* Grade 9 C2.2 create code by decomposing situations into computational steps in order to represent mathematical concepts and relationships, and to solve problems"
      ]
    },
    {
      "cell_type": "code",
      "metadata": {
        "colab": {
          "base_uri": "https://localhost:8080/"
        },
        "id": "vsnBMIy_oRVm",
        "outputId": "35b484ae-cd2c-4a98-84cb-bb81650cf744"
      },
      "source": [
        "pmt = 68.99\n",
        "num_pmts = 12\n",
        "total_paid = 0 # initially\n",
        "\n",
        "print('Month #\\t\\tTotal Paid')\n",
        "for i in range(num_pmts):\n",
        "    total_paid += pmt\n",
        "    print(f'{i+1:^5}\\t\\t${total_paid:>7.2f}')"
      ],
      "execution_count": 21,
      "outputs": [
        {
          "output_type": "stream",
          "text": [
            "Month #\t\tTotal Paid\n",
            "  1  \t\t$  68.99\n",
            "  2  \t\t$ 137.98\n",
            "  3  \t\t$ 206.97\n",
            "  4  \t\t$ 275.96\n",
            "  5  \t\t$ 344.95\n",
            "  6  \t\t$ 413.94\n",
            "  7  \t\t$ 482.93\n",
            "  8  \t\t$ 551.92\n",
            "  9  \t\t$ 620.91\n",
            " 10  \t\t$ 689.90\n",
            " 11  \t\t$ 758.89\n",
            " 12  \t\t$ 827.88\n"
          ],
          "name": "stdout"
        }
      ]
    },
    {
      "cell_type": "markdown",
      "metadata": {
        "id": "-TAuiN39WJuk"
      },
      "source": [
        "##Demo - Boxplot"
      ]
    },
    {
      "cell_type": "markdown",
      "metadata": {
        "id": "4y0hBK9QcM9O"
      },
      "source": [
        "**Concepts and Skills**\n",
        "* Grade 8 Concept: Integers\n",
        "* Grade 8 Skill: Represent/Compare\n",
        "* Grade 8-9 Skill: Problem Solving\n",
        "* Grade 8-9 Skill: Using a Variable\n",
        "* Grade 9 Skill: Data Analysis\n",
        "* Grade 9 Skill: Graphing\n",
        "* Grade 9 Skill: Mathematical Communication\n",
        "\n",
        "**Coding Expectations**\n",
        "* Grade 8 C3.1 solve problems and create computational representations of mathematical situations by writing and executing code, including code that involves the analysis of data in order to inform and communicate decisions\n",
        "* Grade 9 C2.1 use coding to demonstrate an understanding of algebraic concepts including variables, parameters, equations, and inequalities\n",
        "* Grade 9 C2.2 create code by decomposing situations into computational steps in order to represent mathematical concepts and relationships, and to solve problems\n",
        "\n",
        "**Further Reading**\n",
        "\n",
        "* https://matplotlib.org/stable/api/_as_gen/matplotlib.pyplot.boxplot.html\n",
        "* https://stackoverflow.com/questions/3996904/generate-random-integers-between-0-and-9"
      ]
    },
    {
      "cell_type": "code",
      "metadata": {
        "id": "eAxhwBuNWQVp"
      },
      "source": [
        "import random"
      ],
      "execution_count": 22,
      "outputs": []
    },
    {
      "cell_type": "code",
      "metadata": {
        "colab": {
          "base_uri": "https://localhost:8080/"
        },
        "id": "CgNNUXZFWVpC",
        "outputId": "e61d0117-09b1-45cc-f962-551ea87848cc"
      },
      "source": [
        "# generate 200 random data points between 1 and 100 (inclusive)\n",
        "\n",
        "data = [] # empty list\n",
        "for i in range(200):\n",
        "    y = random.randint(1, 101)\n",
        "    data.append(y)\n",
        "\n",
        "print(data)"
      ],
      "execution_count": 23,
      "outputs": [
        {
          "output_type": "stream",
          "text": [
            "[24, 51, 66, 72, 47, 67, 81, 89, 80, 30, 21, 46, 73, 95, 60, 57, 17, 40, 21, 34, 78, 77, 19, 32, 89, 25, 86, 33, 76, 64, 60, 26, 32, 84, 31, 76, 76, 23, 83, 35, 75, 76, 2, 54, 65, 76, 84, 84, 97, 8, 89, 86, 23, 51, 84, 100, 100, 56, 98, 4, 32, 85, 79, 99, 51, 45, 16, 69, 60, 17, 41, 95, 55, 2, 18, 82, 80, 51, 93, 30, 52, 101, 50, 38, 43, 12, 70, 43, 10, 62, 4, 43, 88, 64, 3, 14, 36, 84, 27, 19, 49, 85, 67, 78, 72, 7, 5, 96, 69, 97, 99, 85, 35, 31, 87, 75, 46, 61, 13, 101, 23, 60, 67, 26, 81, 65, 94, 92, 50, 16, 42, 81, 66, 66, 70, 54, 59, 97, 71, 32, 36, 42, 77, 65, 46, 20, 12, 75, 52, 60, 32, 80, 98, 6, 34, 92, 21, 91, 31, 37, 12, 71, 83, 24, 53, 18, 83, 36, 55, 55, 2, 18, 11, 39, 26, 73, 45, 42, 94, 24, 54, 50, 16, 58, 71, 13, 101, 99, 84, 11, 88, 12, 30, 48, 56, 48, 81, 13, 94, 46]\n"
          ],
          "name": "stdout"
        }
      ]
    },
    {
      "cell_type": "code",
      "metadata": {
        "colab": {
          "base_uri": "https://localhost:8080/",
          "height": 215
        },
        "id": "0I6ULDCqW0Dy",
        "outputId": "27f06aad-79dd-46a6-f3c2-236becf3849b"
      },
      "source": [
        "# boxplot\n",
        "\n",
        "plt.boxplot(data,labels=[\"Random Data\"])\n",
        "plt.show()"
      ],
      "execution_count": 24,
      "outputs": [
        {
          "output_type": "error",
          "ename": "NameError",
          "evalue": "ignored",
          "traceback": [
            "\u001b[0;31m---------------------------------------------------------------------------\u001b[0m",
            "\u001b[0;31mNameError\u001b[0m                                 Traceback (most recent call last)",
            "\u001b[0;32m<ipython-input-24-cff6b716aac9>\u001b[0m in \u001b[0;36m<module>\u001b[0;34m()\u001b[0m\n\u001b[1;32m      1\u001b[0m \u001b[0;31m# boxplot\u001b[0m\u001b[0;34m\u001b[0m\u001b[0;34m\u001b[0m\u001b[0;34m\u001b[0m\u001b[0m\n\u001b[1;32m      2\u001b[0m \u001b[0;34m\u001b[0m\u001b[0m\n\u001b[0;32m----> 3\u001b[0;31m \u001b[0mplt\u001b[0m\u001b[0;34m.\u001b[0m\u001b[0mboxplot\u001b[0m\u001b[0;34m(\u001b[0m\u001b[0mdata\u001b[0m\u001b[0;34m,\u001b[0m\u001b[0mlabels\u001b[0m\u001b[0;34m=\u001b[0m\u001b[0;34m[\u001b[0m\u001b[0;34m\"Random Data\"\u001b[0m\u001b[0;34m]\u001b[0m\u001b[0;34m)\u001b[0m\u001b[0;34m\u001b[0m\u001b[0;34m\u001b[0m\u001b[0m\n\u001b[0m\u001b[1;32m      4\u001b[0m \u001b[0mplt\u001b[0m\u001b[0;34m.\u001b[0m\u001b[0mshow\u001b[0m\u001b[0;34m(\u001b[0m\u001b[0;34m)\u001b[0m\u001b[0;34m\u001b[0m\u001b[0;34m\u001b[0m\u001b[0m\n",
            "\u001b[0;31mNameError\u001b[0m: name 'plt' is not defined"
          ]
        }
      ]
    },
    {
      "cell_type": "markdown",
      "metadata": {
        "id": "vlweIFQsuMAb"
      },
      "source": [
        "## Bonus Python: Mathematical Expressions when Graphingl (and Using List Comprehension)"
      ]
    },
    {
      "cell_type": "markdown",
      "metadata": {
        "id": "Iqz7yfUtvw6E"
      },
      "source": [
        "**Further Reading**\n",
        "* https://matplotlib.org/stable/tutorials/text/mathtext.html\n",
        "* https://matplotlib.org/stable/tutorials/introductory/pyplot.html\n",
        "\n",
        "**Concepts and Skills**\n",
        "* Grade 9 Skill: Mathematical Communication"
      ]
    },
    {
      "cell_type": "code",
      "metadata": {
        "id": "WdY7TaN1unrH"
      },
      "source": [
        "import matplotlib.pyplot as plt"
      ],
      "execution_count": null,
      "outputs": []
    },
    {
      "cell_type": "code",
      "metadata": {
        "id": "eKVOAZitPqAf"
      },
      "source": [
        "# let's create some data using list comprehension (advanced technique)\n",
        "\n",
        "x = [n for n in range(1, 20)]\n",
        "y = [n**2 for n in x]"
      ],
      "execution_count": null,
      "outputs": []
    },
    {
      "cell_type": "code",
      "metadata": {
        "id": "Gzm-BwyRyVhr"
      },
      "source": [
        "# plain text on graph\n",
        "\n",
        "plt.plot(x, y)\n",
        "plt.title('alpha > beta')\n",
        "plt.show()"
      ],
      "execution_count": null,
      "outputs": []
    },
    {
      "cell_type": "code",
      "metadata": {
        "id": "JY7YYXGQzIEt"
      },
      "source": [
        "# example with proper Greek letters\n",
        "\n",
        "plt.plot(x, y)\n",
        "plt.title(r'$\\alpha > \\beta$') \n",
        "plt.show()"
      ],
      "execution_count": null,
      "outputs": []
    },
    {
      "cell_type": "code",
      "metadata": {
        "id": "it8Avv26zIWD"
      },
      "source": [
        "# example with underscores\n",
        "\n",
        "plt.plot(x, y)\n",
        "plt.title(r'$\\alpha_2 > \\beta_2$') \n",
        "plt.show()"
      ],
      "execution_count": null,
      "outputs": []
    },
    {
      "cell_type": "markdown",
      "metadata": {
        "id": "LnGb96otuHjI"
      },
      "source": [
        "## Bonus Python: Math Module (and Using Help)"
      ]
    },
    {
      "cell_type": "code",
      "metadata": {
        "id": "IqYKDG9twLNs"
      },
      "source": [
        "import math\n",
        "import textwrap\n",
        "\n",
        "print(textwrap.fill(str(dir(math)), 60))"
      ],
      "execution_count": null,
      "outputs": []
    },
    {
      "cell_type": "code",
      "metadata": {
        "id": "Uk_R3uHMxdcE"
      },
      "source": [
        "help(math.hypot)"
      ],
      "execution_count": null,
      "outputs": []
    },
    {
      "cell_type": "code",
      "metadata": {
        "id": "tOwEod1cyrl-"
      },
      "source": [
        "help(math.gcd)"
      ],
      "execution_count": null,
      "outputs": []
    },
    {
      "cell_type": "code",
      "metadata": {
        "id": "SUMx_YwPzF-f"
      },
      "source": [
        "print(math.gcd(56, 68))"
      ],
      "execution_count": null,
      "outputs": []
    },
    {
      "cell_type": "markdown",
      "metadata": {
        "id": "ZCMsZ29rRC0p"
      },
      "source": [
        "## Python Basics: Fractions Module"
      ]
    },
    {
      "cell_type": "markdown",
      "metadata": {
        "id": "MuGEgqNNRJuK"
      },
      "source": [
        "**Further Reading** \n",
        "* https://docs.python.org/3/library/fractions.html\n",
        "* https://www.tutorialspoint.com/fraction-module-in-python\n",
        "* https://www.geeksforgeeks.org/fraction-module-python/\n",
        "\n",
        "**Concepts and Skills**\n",
        "* Grade 8 Concept: Fractions\n",
        "* Grade 8 Concept: Multiplication and Division of Fractions\n",
        "* Grade 8 Skill: Multiplication and Division of Fractions"
      ]
    },
    {
      "cell_type": "code",
      "metadata": {
        "id": "fcwki0NCRFQh"
      },
      "source": [
        "from fractions import Fraction\n",
        "\n",
        "frac = Fraction(9, 27)\n",
        "print(frac)\n",
        "print(frac.numerator)\n",
        "print(frac.denominator)"
      ],
      "execution_count": null,
      "outputs": []
    },
    {
      "cell_type": "code",
      "metadata": {
        "id": "7hx3JgFBYdqD"
      },
      "source": [
        "print(Fraction('1.2')) # simplified fractionm must be a string!"
      ],
      "execution_count": null,
      "outputs": []
    },
    {
      "cell_type": "code",
      "metadata": {
        "id": "3ftu_lOHRYxa"
      },
      "source": [
        "import math\n",
        "print(Fraction('3.1415926535897932').limit_denominator(60))"
      ],
      "execution_count": null,
      "outputs": []
    },
    {
      "cell_type": "code",
      "metadata": {
        "id": "uSzlW8j3Ro5H"
      },
      "source": [
        "# fraction multiplication\n",
        "\n",
        "print(Fraction(1,3) * Fraction(1,2))"
      ],
      "execution_count": null,
      "outputs": []
    },
    {
      "cell_type": "code",
      "metadata": {
        "id": "DZqMSb6EXKMO"
      },
      "source": [
        "# fraction division\n",
        "\n",
        "print(Fraction(1,3) * Fraction(1,2))"
      ],
      "execution_count": null,
      "outputs": []
    },
    {
      "cell_type": "markdown",
      "metadata": {
        "id": "U6XFmkOakDb2"
      },
      "source": [
        "## Some Quick Challenges"
      ]
    },
    {
      "cell_type": "markdown",
      "metadata": {
        "id": "H53pf3DSkGDb"
      },
      "source": [
        "Print 'Hello world'."
      ]
    },
    {
      "cell_type": "code",
      "metadata": {
        "id": "cTeiXFRakLmb"
      },
      "source": [
        ""
      ],
      "execution_count": null,
      "outputs": []
    },
    {
      "cell_type": "markdown",
      "metadata": {
        "id": "AP8hN7OakMF9"
      },
      "source": [
        "Assign 'Hello' to a variable named `s` and print it."
      ]
    },
    {
      "cell_type": "code",
      "metadata": {
        "id": "-WhYB7D7kdeC"
      },
      "source": [
        ""
      ],
      "execution_count": null,
      "outputs": []
    },
    {
      "cell_type": "markdown",
      "metadata": {
        "id": "WldUFA6mkjNS"
      },
      "source": [
        "Prompt for your name using `input()` and then print it. ([Hint](https://www.w3schools.com/python/ref_func_input.asp))"
      ]
    },
    {
      "cell_type": "code",
      "metadata": {
        "id": "dUqoFzdZkxxI"
      },
      "source": [
        "name = \n",
        "\n",
        "print(name)"
      ],
      "execution_count": null,
      "outputs": []
    },
    {
      "cell_type": "markdown",
      "metadata": {
        "id": "nRuALyyllZnZ"
      },
      "source": [
        "Prompt for an integer and then print it."
      ]
    },
    {
      "cell_type": "code",
      "metadata": {
        "id": "rPmMPMfkleqF"
      },
      "source": [
        "num = \n",
        "\n",
        "print()"
      ],
      "execution_count": null,
      "outputs": []
    },
    {
      "cell_type": "markdown",
      "metadata": {
        "id": "A9fSp32GlivO"
      },
      "source": [
        "Prompt for an integer and then print its square."
      ]
    },
    {
      "cell_type": "code",
      "metadata": {
        "id": "wrZ2BUXXln7j"
      },
      "source": [
        "num = \n",
        "\n",
        "print()"
      ],
      "execution_count": null,
      "outputs": []
    }
  ]
}